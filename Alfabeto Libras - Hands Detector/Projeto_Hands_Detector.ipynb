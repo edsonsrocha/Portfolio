{
 "cells": [
  {
   "cell_type": "markdown",
   "id": "389535a3-a9f3-4a91-a7ac-04bf66a118b3",
   "metadata": {},
   "source": [
    "# Mini Projeto: Letras do Alfabeto em Libras Brasileiro com \"Hands Detector\" (MediaPipe Hands)"
   ]
  },
  {
   "cell_type": "markdown",
   "id": "3a3ae24f-a39d-4b7f-b2b6-be9470f87481",
   "metadata": {},
   "source": [
    "---"
   ]
  },
  {
   "cell_type": "markdown",
   "id": "9ac22370-ea4f-44f5-9150-3ce1886acb4d",
   "metadata": {},
   "source": [
    "## Letras disponíveis no Programa: A, B, C, D, E, F, S, T, U, V, W e Y (Mão Direita)\n",
    "- https://www.libras.com.br/alfabeto-manual"
   ]
  },
  {
   "cell_type": "code",
   "execution_count": null,
   "id": "425d208e-532c-4c6f-93c6-95722062298a",
   "metadata": {},
   "outputs": [],
   "source": [
    "### Módulos para o Programa Principal ###\n",
    "import cv2\n",
    "import mediapipe as mp\n",
    "import handsdetector.hands_detec_alphabet as ha\n",
    "\n",
    "#-----------------------------------------------------------------------------------------------------------------------------------------------------------------\n",
    "\n",
    "## Programa Principal ###\n",
    "\n",
    "# Variável para capturar imagens da câmera do computador, objeto da Classe 'Hands' para detecção das mãos e Classe 'DrawingSpec' para desenhar marcos das mãos\n",
    "captura = cv2.VideoCapture(0)\n",
    "maos = mp.solutions.hands.Hands()\n",
    "DrawingSpec = mp.solutions.drawing_utils.DrawingSpec\n",
    "\n",
    "# Loop para caputra de video na câmera do computador e desenho dos pontos referentes às marcas das mãos\n",
    "while True:\n",
    "    leitura_ok, imagem = captura.read()\n",
    "    imagem_rgb = cv2.cvtColor(imagem, cv2.COLOR_BGR2RGB)\n",
    "    result_maos = maos.process(imagem_rgb)\n",
    "    alt, larg, cores = imagem.shape\n",
    "    \n",
    "    # Teste lógico para saber se existiu captura de imagem da mão\n",
    "    if result_maos.multi_hand_landmarks:        \n",
    "        for num_mao, lista_marcas_mao in enumerate(result_maos.multi_hand_landmarks):            \n",
    "            # Desenhando as marcas e conexões da mão\n",
    "            ha.desenha_marcas_mao(lista_marcas_mao, imagem)\n",
    "            # Coletando posições das marcas dos dedos da mão\n",
    "            lista_posicoes = ha.coleta_posicoes(lista_marcas_mao, alt, larg)            \n",
    "            # Obtendo letra conforme posições da mão\n",
    "            letra = ha.captura_letras_alfabeto(lista_posicoes)\n",
    "\n",
    "            cv2.putText(imagem, letra, (25, 150), cv2.FONT_HERSHEY_PLAIN, 10, (0, 255, 255), 7)\n",
    "    cv2.imshow('Teste de Video: Capturar Imagens Maos', imagem)\n",
    "    cv2.waitKey(1)"
   ]
  },
  {
   "cell_type": "markdown",
   "id": "08620585-1a7e-4518-a6e5-114eb14d86de",
   "metadata": {},
   "source": [
    "---"
   ]
  },
  {
   "cell_type": "markdown",
   "id": "3b8c9c78-e064-4853-803d-e2a5894f0bfa",
   "metadata": {},
   "source": [
    "## Melhorias Futuras:\n",
    "- Implementar mão esquerda\n",
    "- Finalizar alfabeto\n",
    "- Alterar o código implementando classes\n",
    "- Aperfeiçoar a precisão de algumas letras"
   ]
  }
 ],
 "metadata": {
  "kernelspec": {
   "display_name": "Python 3",
   "language": "python",
   "name": "python3"
  },
  "language_info": {
   "codemirror_mode": {
    "name": "ipython",
    "version": 3
   },
   "file_extension": ".py",
   "mimetype": "text/x-python",
   "name": "python",
   "nbconvert_exporter": "python",
   "pygments_lexer": "ipython3",
   "version": "3.8.8"
  }
 },
 "nbformat": 4,
 "nbformat_minor": 5
}
